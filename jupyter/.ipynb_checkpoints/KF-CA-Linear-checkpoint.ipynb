{
 "cells": [
  {
   "cell_type": "markdown",
   "metadata": {},
   "source": [
    "# Implementation of Linear Kalman Filter using Constant Acceleration Motion Model and Linear Measurement Model"
   ]
  },
  {
   "cell_type": "code",
   "execution_count": 82,
   "metadata": {},
   "outputs": [],
   "source": [
    "import math\n",
    "import matplotlib.pyplot as plt\n",
    "import numpy as np\n",
    "from scipy.sparse.linalg import expm\n",
    "import scipy.integrate as integrate\n",
    "from scipy.linalg import sqrtm\n",
    "import sympy as sp\n",
    "from sympy import init_printing\n",
    "init_printing(use_latex=True)\n",
    "from matplotlib import animation, rc\n",
    "from IPython.display import HTML, Image"
   ]
  },
  {
   "cell_type": "code",
   "execution_count": 83,
   "metadata": {},
   "outputs": [
    {
     "data": {
      "image/png": "[encoded data removed]",
      "text/plain": [
       "<Figure size 432x288 with 1 Axes>"
      ]
     },
     "metadata": {
      "needs_background": "light"
     },
     "output_type": "display_data"
    }
   ],
   "source": [
    "# initalize global variables\n",
    "dt = 0.01  # seconds\n",
    "N = 100  # number of samples\n",
    "qc = 0.1  # process noise magnitude\n",
    "z_noise = 1  # measurement noise magnitude\n",
    "rc('animation', html='html5')\n",
    "fig, ax = plt.subplots()\n",
    "\n",
    "ax.set_xlim(( 0, 2))\n",
    "ax.set_ylim((-2, 2))\n",
    "\n",
    "line, = ax.plot([], [], lw=2)"
   ]
  },
  {
   "cell_type": "markdown",
   "metadata": {},
   "source": [
    "\n",
    "## Available sensors:\n",
    "1. GNSS, measuring x axis position, y axis position\n",
    "2. Accelerometer, measuring x axis acceleration, y axis acceleration"
   ]
  },
  {
   "cell_type": "markdown",
   "metadata": {},
   "source": [
    "## Linear Kalman Filter Prediction Step:\n",
    "1. $x_{k|k-1} = a_{k-1} \\cdot x_{k-1|k-1}$\n",
    "2. $P_{k|k-1} = a_{k-1} \\cdot P_{k-1|k-1} \\cdot a_{k-1}^T + q_{k-1}$\n",
    "\\\n",
    "\\\n",
    "In this project, we assume that an object is travelling in a linear path $x=y$, and we obtain noisy measurements of x and y positions from the GNSS sensor. The velocity is assumed to be constant and thus the accelerations would be zero. Hence, the accelerometer would always measure zero acceleration with added noise."
   ]
  },
  {
   "cell_type": "markdown",
   "metadata": {},
   "source": [
    "## Linear Kalman Filter Update Step:\n",
    "1. $k_k = P_{k|k-1} \\cdot h_k^T \\cdot s_k^{-1}$\n",
    "2. $v_k = z_k - h_k \\cdot x_{k|k-1}$\n",
    "3. $s_k = h_k \\cdot P_{k|k-1} \\cdot h_k^T + r_k$\n",
    "4. $x_{k|k} = x_{k|k-1} + k_{k} \\cdot v_{k}$\n",
    "5. $P_{k|k} = P_{k|k-1} - k_k \\cdot s_k \\cdot k_k^T$\n",
    "\\\n",
    "\\\n",
    "In this project, we assume that the state variables - x & y positions and x & y accelerations are directly measurable by the given sensors, with some added noise."
   ]
  },
  {
   "cell_type": "code",
   "execution_count": 84,
   "metadata": {},
   "outputs": [],
   "source": [
    "px, py, vx, vy, ax, ay, T = sp.symbols('p_x p_y v_x v_y a_x a_y T')\n",
    "x_k = sp.Matrix([px, py, vx, vy, ax, ay])\n",
    "a = sp.Matrix([[0.0, 0.0, 1.0, 0.0, 0.0, 0.0],\n",
    "              [0.0, 0.0, 0.0, 1.0, 0.0, 0.0],\n",
    "              [0.0, 0.0, 0.0, 0.0, 1.0, 0.0],\n",
    "              [0.0, 0.0, 0.0, 0.0, 0.0, 1.0],\n",
    "              [0.0, 0.0, 0.0, 0.0, 0.0, 0.0],\n",
    "              [0.0, 0.0, 0.0, 0.0, 0.0, 0.0]])\n",
    "a = sp.exp(T * a)\n",
    "gamma = sp.Matrix([[0.0], [0.0], [0.0], [0.0], [1.0], [1.0]])\n",
    "q = qc * gamma @ np.transpose(gamma)\n",
    "q_euler = T * q\n",
    "q_exact = sp.integrate(sp.exp(T*a) * q * sp.exp(T*a.T), T)\n",
    "h = sp.Matrix([[1.0, 0.0, 0.0, 0.0, 0.0, 0.0],\n",
    "              [0.0, 1.0, 0.0, 0.0, 0.0, 0.0],\n",
    "              [0.0, 0.0, 0.0, 0.0, 1.0, 0.0],\n",
    "              [0.0, 0.0, 0.0, 0.0, 0.0, 1.0]])\n",
    "h_k = sp.Matrix([px, py, ax, ay])"
   ]
  },
  {
   "cell_type": "markdown",
   "metadata": {},
   "source": [
    "## State Matrix ($x_k$):"
   ]
  },
  {
   "cell_type": "code",
   "execution_count": 85,
   "metadata": {
    "scrolled": true
   },
   "outputs": [
    {
     "data": {
      "text/latex": [
       "$\\displaystyle \\left[\\begin{matrix}p_{x}\\\\p_{y}\\\\v_{x}\\\\v_{y}\\\\a_{x}\\\\a_{y}\\end{matrix}\\right]$"
      ],
      "text/plain": [
       "⎡pₓ ⎤\n",
       "⎢   ⎥\n",
       "⎢p_y⎥\n",
       "⎢   ⎥\n",
       "⎢vₓ ⎥\n",
       "⎢   ⎥\n",
       "⎢v_y⎥\n",
       "⎢   ⎥\n",
       "⎢aₓ ⎥\n",
       "⎢   ⎥\n",
       "⎣a_y⎦"
      ]
     },
     "execution_count": 85,
     "metadata": {},
     "output_type": "execute_result"
    }
   ],
   "source": [
    "x_k"
   ]
  },
  {
   "cell_type": "markdown",
   "metadata": {},
   "source": [
    "## State Transition Matrix ($a$):"
   ]
  },
  {
   "cell_type": "code",
   "execution_count": 86,
   "metadata": {},
   "outputs": [
    {
     "data": {
      "text/latex": [
       "$\\displaystyle \\left[\\begin{matrix}1 & 0 & T & 0 & 0.5 T^{2} & 0\\\\0 & 1 & 0 & T & 0 & 0.5 T^{2}\\\\0 & 0 & 1 & 0 & 1.0 T & 0\\\\0 & 0 & 0 & 1 & 0 & 1.0 T\\\\0 & 0 & 0 & 0 & 1.0 & 0\\\\0 & 0 & 0 & 0 & 0 & 1.0\\end{matrix}\\right]$"
      ],
      "text/plain": [
       "⎡                 2        ⎤\n",
       "⎢1  0  T  0  0.5⋅T     0   ⎥\n",
       "⎢                          ⎥\n",
       "⎢                         2⎥\n",
       "⎢0  1  0  T    0     0.5⋅T ⎥\n",
       "⎢                          ⎥\n",
       "⎢0  0  1  0  1.0⋅T     0   ⎥\n",
       "⎢                          ⎥\n",
       "⎢0  0  0  1    0     1.0⋅T ⎥\n",
       "⎢                          ⎥\n",
       "⎢0  0  0  0   1.0      0   ⎥\n",
       "⎢                          ⎥\n",
       "⎣0  0  0  0    0      1.0  ⎦"
      ]
     },
     "execution_count": 86,
     "metadata": {},
     "output_type": "execute_result"
    }
   ],
   "source": [
    "a"
   ]
  },
  {
   "cell_type": "markdown",
   "metadata": {},
   "source": [
    "## Process Noise ($q$):"
   ]
  },
  {
   "cell_type": "code",
   "execution_count": 87,
   "metadata": {},
   "outputs": [
    {
     "data": {
      "text/latex": [
       "$\\displaystyle \\left[\\begin{matrix}0 & 0 & 0 & 0 & 0 & 0\\\\0 & 0 & 0 & 0 & 0 & 0\\\\0 & 0 & 0 & 0 & 0 & 0\\\\0 & 0 & 0 & 0 & 0 & 0\\\\0 & 0 & 0 & 0 & 0.1 T & 0.1 T\\\\0 & 0 & 0 & 0 & 0.1 T & 0.1 T\\end{matrix}\\right]$"
      ],
      "text/plain": [
       "⎡0  0  0  0    0      0  ⎤\n",
       "⎢                        ⎥\n",
       "⎢0  0  0  0    0      0  ⎥\n",
       "⎢                        ⎥\n",
       "⎢0  0  0  0    0      0  ⎥\n",
       "⎢                        ⎥\n",
       "⎢0  0  0  0    0      0  ⎥\n",
       "⎢                        ⎥\n",
       "⎢0  0  0  0  0.1⋅T  0.1⋅T⎥\n",
       "⎢                        ⎥\n",
       "⎣0  0  0  0  0.1⋅T  0.1⋅T⎦"
      ]
     },
     "execution_count": 87,
     "metadata": {},
     "output_type": "execute_result"
    }
   ],
   "source": [
    "q_euler"
   ]
  },
  {
   "cell_type": "code",
   "execution_count": 88,
   "metadata": {},
   "outputs": [
    {
     "data": {
      "text/latex": [
       "$\\displaystyle \\left[\\begin{matrix}1.0 \\left(0.0125 T^{8} - 0.025 T^{7} + 0.1 T^{6} - 0.3 T^{5} + 0.75 T^{4} - 1.5 T^{3} + 2.25 T^{2} - 2.25 T + 1.125\\right) e^{2 T} & 1.0 \\left(0.0125 T^{8} - 0.025 T^{7} + 0.1 T^{6} - 0.3 T^{5} + 0.75 T^{4} - 1.5 T^{3} + 2.25 T^{2} - 2.25 T + 1.125\\right) e^{2 T} & 1.0 \\left(0.025 T^{6} - 0.05 T^{5} + 0.125 T^{4} - 0.25 T^{3} + 0.375 T^{2} - 0.375 T + 0.1875\\right) e^{2 T} & 1.0 \\left(0.025 T^{6} - 0.05 T^{5} + 0.125 T^{4} - 0.25 T^{3} + 0.375 T^{2} - 0.375 T + 0.1875\\right) e^{2 T} & 1.0 \\left(0.025 T^{4} - 0.025 T^{3} + 0.0375 T^{2} - 0.0375 T + 0.01875\\right) e^{2 T} & 1.0 \\left(0.025 T^{4} - 0.025 T^{3} + 0.0375 T^{2} - 0.0375 T + 0.01875\\right) e^{2 T}\\\\1.0 \\left(0.0125 T^{8} - 0.025 T^{7} + 0.1 T^{6} - 0.3 T^{5} + 0.75 T^{4} - 1.5 T^{3} + 2.25 T^{2} - 2.25 T + 1.125\\right) e^{2 T} & 1.0 \\left(0.0125 T^{8} - 0.025 T^{7} + 0.1 T^{6} - 0.3 T^{5} + 0.75 T^{4} - 1.5 T^{3} + 2.25 T^{2} - 2.25 T + 1.125\\right) e^{2 T} & 1.0 \\left(0.025 T^{6} - 0.05 T^{5} + 0.125 T^{4} - 0.25 T^{3} + 0.375 T^{2} - 0.375 T + 0.1875\\right) e^{2 T} & 1.0 \\left(0.025 T^{6} - 0.05 T^{5} + 0.125 T^{4} - 0.25 T^{3} + 0.375 T^{2} - 0.375 T + 0.1875\\right) e^{2 T} & 1.0 \\left(0.025 T^{4} - 0.025 T^{3} + 0.0375 T^{2} - 0.0375 T + 0.01875\\right) e^{2 T} & 1.0 \\left(0.025 T^{4} - 0.025 T^{3} + 0.0375 T^{2} - 0.0375 T + 0.01875\\right) e^{2 T}\\\\1.0 \\left(0.025 T^{6} - 0.05 T^{5} + 0.125 T^{4} - 0.25 T^{3} + 0.375 T^{2} - 0.375 T + 0.1875\\right) e^{2 T} & 1.0 \\left(0.025 T^{6} - 0.05 T^{5} + 0.125 T^{4} - 0.25 T^{3} + 0.375 T^{2} - 0.375 T + 0.1875\\right) e^{2 T} & 1.0 \\left(0.05 T^{4} - 0.1 T^{3} + 0.15 T^{2} - 0.15 T + 0.075\\right) e^{2 T} & 1.0 \\left(0.05 T^{4} - 0.1 T^{3} + 0.15 T^{2} - 0.15 T + 0.075\\right) e^{2 T} & 1.0 \\left(0.05 T^{2} - 0.05 T + 0.025\\right) e^{2 T} & 1.0 \\left(0.05 T^{2} - 0.05 T + 0.025\\right) e^{2 T}\\\\1.0 \\left(0.025 T^{6} - 0.05 T^{5} + 0.125 T^{4} - 0.25 T^{3} + 0.375 T^{2} - 0.375 T + 0.1875\\right) e^{2 T} & 1.0 \\left(0.025 T^{6} - 0.05 T^{5} + 0.125 T^{4} - 0.25 T^{3} + 0.375 T^{2} - 0.375 T + 0.1875\\right) e^{2 T} & 1.0 \\left(0.05 T^{4} - 0.1 T^{3} + 0.15 T^{2} - 0.15 T + 0.075\\right) e^{2 T} & 1.0 \\left(0.05 T^{4} - 0.1 T^{3} + 0.15 T^{2} - 0.15 T + 0.075\\right) e^{2 T} & 1.0 \\left(0.05 T^{2} - 0.05 T + 0.025\\right) e^{2 T} & 1.0 \\left(0.05 T^{2} - 0.05 T + 0.025\\right) e^{2 T}\\\\1.0 \\left(0.025 T^{4} - 0.025 T^{3} + 0.0375 T^{2} - 0.0375 T + 0.01875\\right) e^{2 T} & 1.0 \\left(0.025 T^{4} - 0.025 T^{3} + 0.0375 T^{2} - 0.0375 T + 0.01875\\right) e^{2 T} & 1.0 \\left(0.05 T^{2} - 0.05 T + 0.025\\right) e^{2 T} & 1.0 \\left(0.05 T^{2} - 0.05 T + 0.025\\right) e^{2 T} & 0.05 e^{2 T} & 0.05 e^{2 T}\\\\1.0 \\left(0.025 T^{4} - 0.025 T^{3} + 0.0375 T^{2} - 0.0375 T + 0.01875\\right) e^{2 T} & 1.0 \\left(0.025 T^{4} - 0.025 T^{3} + 0.0375 T^{2} - 0.0375 T + 0.01875\\right) e^{2 T} & 1.0 \\left(0.05 T^{2} - 0.05 T + 0.025\\right) e^{2 T} & 1.0 \\left(0.05 T^{2} - 0.05 T + 0.025\\right) e^{2 T} & 0.05 e^{2 T} & 0.05 e^{2 T}\\end{matrix}\\right]$"
      ],
      "text/plain": [
       "⎡    ⎛        8          7        6        5         4        3         2     \n",
       "⎢1.0⋅⎝0.0125⋅T  - 0.025⋅T  + 0.1⋅T  - 0.3⋅T  + 0.75⋅T  - 1.5⋅T  + 2.25⋅T  - 2.\n",
       "⎢                                                                             \n",
       "⎢    ⎛        8          7        6        5         4        3         2     \n",
       "⎢1.0⋅⎝0.0125⋅T  - 0.025⋅T  + 0.1⋅T  - 0.3⋅T  + 0.75⋅T  - 1.5⋅T  + 2.25⋅T  - 2.\n",
       "⎢                                                                             \n",
       "⎢           ⎛       6         5          4         3          2               \n",
       "⎢       1.0⋅⎝0.025⋅T  - 0.05⋅T  + 0.125⋅T  - 0.25⋅T  + 0.375⋅T  - 0.375⋅T + 0.\n",
       "⎢                                                                             \n",
       "⎢           ⎛       6         5          4         3          2               \n",
       "⎢       1.0⋅⎝0.025⋅T  - 0.05⋅T  + 0.125⋅T  - 0.25⋅T  + 0.375⋅T  - 0.375⋅T + 0.\n",
       "⎢                                                                             \n",
       "⎢                    ⎛       4          3           2                     ⎞  2\n",
       "⎢                1.0⋅⎝0.025⋅T  - 0.025⋅T  + 0.0375⋅T  - 0.0375⋅T + 0.01875⎠⋅ℯ \n",
       "⎢                                                                             \n",
       "⎢                    ⎛       4          3           2                     ⎞  2\n",
       "⎣                1.0⋅⎝0.025⋅T  - 0.025⋅T  + 0.0375⋅T  - 0.0375⋅T + 0.01875⎠⋅ℯ \n",
       "\n",
       "            ⎞  2⋅T      ⎛        8          7        6        5         4     \n",
       "25⋅T + 1.125⎠⋅ℯ     1.0⋅⎝0.0125⋅T  - 0.025⋅T  + 0.1⋅T  - 0.3⋅T  + 0.75⋅T  - 1.\n",
       "                                                                              \n",
       "            ⎞  2⋅T      ⎛        8          7        6        5         4     \n",
       "25⋅T + 1.125⎠⋅ℯ     1.0⋅⎝0.0125⋅T  - 0.025⋅T  + 0.1⋅T  - 0.3⋅T  + 0.75⋅T  - 1.\n",
       "                                                                              \n",
       "    ⎞  2⋅T                     ⎛       6         5          4         3       \n",
       "1875⎠⋅ℯ                    1.0⋅⎝0.025⋅T  - 0.05⋅T  + 0.125⋅T  - 0.25⋅T  + 0.37\n",
       "                                                                              \n",
       "    ⎞  2⋅T                     ⎛       6         5          4         3       \n",
       "1875⎠⋅ℯ                    1.0⋅⎝0.025⋅T  - 0.05⋅T  + 0.125⋅T  - 0.25⋅T  + 0.37\n",
       "                                                                              \n",
       "⋅T                                      ⎛       4          3           2      \n",
       "                                    1.0⋅⎝0.025⋅T  - 0.025⋅T  + 0.0375⋅T  - 0.0\n",
       "                                                                              \n",
       "⋅T                                      ⎛       4          3           2      \n",
       "                                    1.0⋅⎝0.025⋅T  - 0.025⋅T  + 0.0375⋅T  - 0.0\n",
       "\n",
       "   3         2                 ⎞  2⋅T      ⎛       6         5          4     \n",
       "5⋅T  + 2.25⋅T  - 2.25⋅T + 1.125⎠⋅ℯ     1.0⋅⎝0.025⋅T  - 0.05⋅T  + 0.125⋅T  - 0.\n",
       "                                                                              \n",
       "   3         2                 ⎞  2⋅T      ⎛       6         5          4     \n",
       "5⋅T  + 2.25⋅T  - 2.25⋅T + 1.125⎠⋅ℯ     1.0⋅⎝0.025⋅T  - 0.05⋅T  + 0.125⋅T  - 0.\n",
       "                                                                              \n",
       "   2                   ⎞  2⋅T                           ⎛      4        3     \n",
       "5⋅T  - 0.375⋅T + 0.1875⎠⋅ℯ                          1.0⋅⎝0.05⋅T  - 0.1⋅T  + 0.\n",
       "                                                                              \n",
       "   2                   ⎞  2⋅T                           ⎛      4        3     \n",
       "5⋅T  - 0.375⋅T + 0.1875⎠⋅ℯ                          1.0⋅⎝0.05⋅T  - 0.1⋅T  + 0.\n",
       "                                                                              \n",
       "               ⎞  2⋅T                                            ⎛      2     \n",
       "375⋅T + 0.01875⎠⋅ℯ                                           1.0⋅⎝0.05⋅T  - 0.\n",
       "                                                                              \n",
       "               ⎞  2⋅T                                            ⎛      2     \n",
       "375⋅T + 0.01875⎠⋅ℯ                                           1.0⋅⎝0.05⋅T  - 0.\n",
       "\n",
       "    3          2                   ⎞  2⋅T      ⎛       6         5          4 \n",
       "25⋅T  + 0.375⋅T  - 0.375⋅T + 0.1875⎠⋅ℯ     1.0⋅⎝0.025⋅T  - 0.05⋅T  + 0.125⋅T  \n",
       "                                                                              \n",
       "    3          2                   ⎞  2⋅T      ⎛       6         5          4 \n",
       "25⋅T  + 0.375⋅T  - 0.375⋅T + 0.1875⎠⋅ℯ     1.0⋅⎝0.025⋅T  - 0.05⋅T  + 0.125⋅T  \n",
       "                                                                              \n",
       "    2                 ⎞  2⋅T                                ⎛      4        3 \n",
       "15⋅T  - 0.15⋅T + 0.075⎠⋅ℯ                               1.0⋅⎝0.05⋅T  - 0.1⋅T  \n",
       "                                                                              \n",
       "    2                 ⎞  2⋅T                                ⎛      4        3 \n",
       "15⋅T  - 0.15⋅T + 0.075⎠⋅ℯ                               1.0⋅⎝0.05⋅T  - 0.1⋅T  \n",
       "                                                                              \n",
       "            ⎞  2⋅T                                                   ⎛      2 \n",
       "05⋅T + 0.025⎠⋅ℯ                                                  1.0⋅⎝0.05⋅T  \n",
       "                                                                              \n",
       "            ⎞  2⋅T                                                   ⎛      2 \n",
       "05⋅T + 0.025⎠⋅ℯ                                                  1.0⋅⎝0.05⋅T  \n",
       "\n",
       "        3          2                   ⎞  2⋅T      ⎛       4          3       \n",
       "- 0.25⋅T  + 0.375⋅T  - 0.375⋅T + 0.1875⎠⋅ℯ     1.0⋅⎝0.025⋅T  - 0.025⋅T  + 0.03\n",
       "                                                                              \n",
       "        3          2                   ⎞  2⋅T      ⎛       4          3       \n",
       "- 0.25⋅T  + 0.375⋅T  - 0.375⋅T + 0.1875⎠⋅ℯ     1.0⋅⎝0.025⋅T  - 0.025⋅T  + 0.03\n",
       "                                                                              \n",
       "        2                 ⎞  2⋅T                                 ⎛      2     \n",
       "+ 0.15⋅T  - 0.15⋅T + 0.075⎠⋅ℯ                                1.0⋅⎝0.05⋅T  - 0.\n",
       "                                                                              \n",
       "        2                 ⎞  2⋅T                                 ⎛      2     \n",
       "+ 0.15⋅T  - 0.15⋅T + 0.075⎠⋅ℯ                                1.0⋅⎝0.05⋅T  - 0.\n",
       "                                                                              \n",
       "                ⎞  2⋅T                                                        \n",
       "- 0.05⋅T + 0.025⎠⋅ℯ                                                       0.05\n",
       "                                                                              \n",
       "                ⎞  2⋅T                                                        \n",
       "- 0.05⋅T + 0.025⎠⋅ℯ                                                       0.05\n",
       "\n",
       "    2                     ⎞  2⋅T      ⎛       4          3           2        \n",
       "75⋅T  - 0.0375⋅T + 0.01875⎠⋅ℯ     1.0⋅⎝0.025⋅T  - 0.025⋅T  + 0.0375⋅T  - 0.037\n",
       "                                                                              \n",
       "    2                     ⎞  2⋅T      ⎛       4          3           2        \n",
       "75⋅T  - 0.0375⋅T + 0.01875⎠⋅ℯ     1.0⋅⎝0.025⋅T  - 0.025⋅T  + 0.0375⋅T  - 0.037\n",
       "                                                                              \n",
       "            ⎞  2⋅T                                  ⎛      2                 ⎞\n",
       "05⋅T + 0.025⎠⋅ℯ                                 1.0⋅⎝0.05⋅T  - 0.05⋅T + 0.025⎠\n",
       "                                                                              \n",
       "            ⎞  2⋅T                                  ⎛      2                 ⎞\n",
       "05⋅T + 0.025⎠⋅ℯ                                 1.0⋅⎝0.05⋅T  - 0.05⋅T + 0.025⎠\n",
       "                                                                              \n",
       "  2⋅T                                                              2⋅T        \n",
       "⋅ℯ                                                           0.05⋅ℯ           \n",
       "                                                                              \n",
       "  2⋅T                                                              2⋅T        \n",
       "⋅ℯ                                                           0.05⋅ℯ           \n",
       "\n",
       "             ⎞  2⋅T⎤\n",
       "5⋅T + 0.01875⎠⋅ℯ   ⎥\n",
       "                   ⎥\n",
       "             ⎞  2⋅T⎥\n",
       "5⋅T + 0.01875⎠⋅ℯ   ⎥\n",
       "                   ⎥\n",
       "  2⋅T              ⎥\n",
       "⋅ℯ                 ⎥\n",
       "                   ⎥\n",
       "  2⋅T              ⎥\n",
       "⋅ℯ                 ⎥\n",
       "                   ⎥\n",
       "                   ⎥\n",
       "                   ⎥\n",
       "                   ⎥\n",
       "                   ⎥\n",
       "                   ⎦"
      ]
     },
     "execution_count": 88,
     "metadata": {},
     "output_type": "execute_result"
    }
   ],
   "source": [
    "q_exact"
   ]
  },
  {
   "cell_type": "markdown",
   "metadata": {},
   "source": [
    "## Measurements ($h_k$):"
   ]
  },
  {
   "cell_type": "code",
   "execution_count": 89,
   "metadata": {},
   "outputs": [
    {
     "data": {
      "text/latex": [
       "$\\displaystyle \\left[\\begin{matrix}p_{x}\\\\p_{y}\\\\a_{x}\\\\a_{y}\\end{matrix}\\right]$"
      ],
      "text/plain": [
       "⎡pₓ ⎤\n",
       "⎢   ⎥\n",
       "⎢p_y⎥\n",
       "⎢   ⎥\n",
       "⎢aₓ ⎥\n",
       "⎢   ⎥\n",
       "⎣a_y⎦"
      ]
     },
     "execution_count": 89,
     "metadata": {},
     "output_type": "execute_result"
    }
   ],
   "source": [
    "h_k"
   ]
  },
  {
   "cell_type": "markdown",
   "metadata": {},
   "source": [
    "## Measurement Matrix ($h$):"
   ]
  },
  {
   "cell_type": "code",
   "execution_count": 90,
   "metadata": {},
   "outputs": [
    {
     "data": {
      "text/latex": [
       "$\\displaystyle \\left[\\begin{matrix}1.0 & 0.0 & 0.0 & 0.0 & 0.0 & 0.0\\\\0.0 & 1.0 & 0.0 & 0.0 & 0.0 & 0.0\\\\0.0 & 0.0 & 0.0 & 0.0 & 1.0 & 0.0\\\\0.0 & 0.0 & 0.0 & 0.0 & 0.0 & 1.0\\end{matrix}\\right]$"
      ],
      "text/plain": [
       "⎡1.0  0.0  0.0  0.0  0.0  0.0⎤\n",
       "⎢                            ⎥\n",
       "⎢0.0  1.0  0.0  0.0  0.0  0.0⎥\n",
       "⎢                            ⎥\n",
       "⎢0.0  0.0  0.0  0.0  1.0  0.0⎥\n",
       "⎢                            ⎥\n",
       "⎣0.0  0.0  0.0  0.0  0.0  1.0⎦"
      ]
     },
     "execution_count": 90,
     "metadata": {},
     "output_type": "execute_result"
    }
   ],
   "source": [
    "h"
   ]
  },
  {
   "cell_type": "code",
   "execution_count": 91,
   "metadata": {},
   "outputs": [],
   "source": [
    "# prior mean\n",
    "x_0 = np.array([[0.0],  # x position\n",
    "                [0.0],  # y position\n",
    "                [0.0],  # x velocity\n",
    "                [0.0],  # y velocity\n",
    "                [0.0],  # x acceleration\n",
    "                [0.0]  # y acceleration\n",
    "                ])\n",
    "\n",
    "# prior covariance\n",
    "p_0 = np.array([[1.0, 0.0, 0.0, 0.0, 0.0, 0.0],\n",
    "                [0.0, 1.0, 0.0, 0.0, 0.0, 0.0],\n",
    "                [0.0, 0.0, 1.0, 0.0, 0.0, 0.0],\n",
    "                [0.0, 0.0, 0.0, 1.0, 0.0, 0.0],\n",
    "                [0.0, 0.0, 0.0, 0.0, 1.0, 0.0],\n",
    "                [0.0, 0.0, 0.0, 0.0, 0.0, 1.0]])\n",
    "\n",
    "# a matrix - discrete time motion model\n",
    "a = np.array([[0.0, 0.0, 1.0, 0.0, 0.0, 0.0],\n",
    "              [0.0, 0.0, 0.0, 1.0, 0.0, 0.0],\n",
    "              [0.0, 0.0, 0.0, 0.0, 1.0, 0.0],\n",
    "              [0.0, 0.0, 0.0, 0.0, 0.0, 1.0],\n",
    "              [0.0, 0.0, 0.0, 0.0, 0.0, 0.0],\n",
    "              [0.0, 0.0, 0.0, 0.0, 0.0, 0.0]])\n",
    "\n",
    "a = expm(dt * a)"
   ]
  },
  {
   "cell_type": "code",
   "execution_count": 92,
   "metadata": {},
   "outputs": [],
   "source": [
    "# q matrix - continuous time process noise covariance\n",
    "gamma = np.array([[0.0], [0.0], [0.0], [0.0], [1.0], [1.0]])\n",
    "q = qc * gamma @ np.transpose(gamma)\n",
    "q_euler = dt * q\n",
    "\n",
    "\n",
    "# h matrix - measurement model\n",
    "h = np.array([[1.0, 0.0, 0.0, 0.0, 0.0, 0.0],\n",
    "              [0.0, 1.0, 0.0, 0.0, 0.0, 0.0],\n",
    "              [0.0, 0.0, 0.0, 0.0, 1.0, 0.0],\n",
    "              [0.0, 0.0, 0.0, 0.0, 0.0, 1.0]])\n",
    "\n",
    "\n",
    "# r matrix - measurement noise covariance\n",
    "r = np.array([[0.010, 0.0, 0.0, 0.0],\n",
    "              [0.0, 0.015, 0.0, 0.0],\n",
    "              [0.0, 0.0, 0.1, 0.0],\n",
    "              [0.0, 0.0, 0.0, 0.1]])**2"
   ]
  },
  {
   "cell_type": "code",
   "execution_count": 93,
   "metadata": {},
   "outputs": [],
   "source": [
    "# linear kalman filter\n",
    "def kalman_filter(x, p, z):\n",
    "    x_pred, p_pred = linear_prediction(a, x, p, q_euler)\n",
    "    x_upd, p_upd = linear_update(x_pred, p_pred, z, h, r)\n",
    "    return x_upd, p_upd"
   ]
  },
  {
   "cell_type": "code",
   "execution_count": 94,
   "metadata": {},
   "outputs": [],
   "source": [
    "# linear kalman filter prediction step\n",
    "def linear_prediction(a, x_hat, p_hat, q):\n",
    "    x_pred = a @ x_hat\n",
    "    p_pred = a @ p_hat @ np.transpose(a) + q\n",
    "    return x_pred, p_pred"
   ]
  },
  {
   "cell_type": "code",
   "execution_count": 95,
   "metadata": {},
   "outputs": [],
   "source": [
    "# linear kalman filter update step\n",
    "def linear_update(x_hat, p_hat, y, h, r):\n",
    "    s = h @ p_hat @ np.transpose(h) + r\n",
    "    k = p_hat @ np.transpose(h) @ np.linalg.pinv(s)\n",
    "    v = y - h @ x_hat\n",
    "\n",
    "    x_upd = x_hat + k @ v\n",
    "    p_upd = p_hat - k @ s @ np.transpose(k)\n",
    "    return x_upd, p_upd"
   ]
  },
  {
   "cell_type": "code",
   "execution_count": 96,
   "metadata": {},
   "outputs": [],
   "source": [
    "# generate ground truth position x_true and noisy position z\n",
    "def gen_measurement(i):\n",
    "    x_true = np.array([[i], [i], [0.0], [0.0]])\n",
    "    z = x_true + z_noise * np.random.randn(4, 1)\n",
    "    return z, x_true"
   ]
  },
  {
   "cell_type": "code",
   "execution_count": 97,
   "metadata": {},
   "outputs": [],
   "source": [
    "# initialization function: plot the background of each frame\n",
    "def init():\n",
    "    line.set_data([], [])\n",
    "    return (line,)"
   ]
  },
  {
   "cell_type": "code",
   "execution_count": 98,
   "metadata": {},
   "outputs": [],
   "source": [
    "def plot_animation():\n",
    "    plt.plot(x_true[0], x_true[1], '.r')\n",
    "    plt.plot(x_est[0], x_est[1], '.b')\n",
    "    plt.plot(z[0], z[1], '+g')\n",
    "    plt.grid(True)\n",
    "    plt.pause(0.001)"
   ]
  },
  {
   "cell_type": "code",
   "execution_count": 99,
   "metadata": {},
   "outputs": [],
   "source": [
    "# animation function. This is called sequentially\n",
    "def animate(i):\n",
    "    x = np.linspace(0, 2, 1000)\n",
    "    y = np.sin(2 * np.pi * (x - 0.01 * i))\n",
    "    line.set_data(x, y)\n",
    "    return (line,)"
   ]
  },
  {
   "cell_type": "code",
   "execution_count": 110,
   "metadata": {},
   "outputs": [
    {
     "name": "stdout",
     "output_type": "stream",
     "text": [
      "KF Over\n"
     ]
    }
   ],
   "source": [
    "# run the kalman filter\n",
    "x_est = x_0\n",
    "p_est = p_0\n",
    "x_true_cat = np.array([x_0[0, 0], x_0[1, 0]])\n",
    "x_est_cat = np.array([x_0[0, 0], x_0[1, 0]])\n",
    "z_cat = np.array([x_0[0, 0], x_0[1, 0]])\n",
    "for i in range(N):\n",
    "    z, x_true = gen_measurement(i)\n",
    "    x_est, p_est = kalman_filter(x_est, p_est, z)\n",
    "    x_true_cat = np.vstack((x_true_cat, np.transpose(x_true[0:2])))\n",
    "    z_cat = np.vstack((z_cat, np.transpose(z[0:2])))\n",
    "    x_est_cat = np.vstack((x_est_cat, np.transpose(x_est[0:2])))\n",
    "print('KF Over')"
   ]
  },
  {
   "cell_type": "code",
   "execution_count": 111,
   "metadata": {},
   "outputs": [
    {
     "ename": "RuntimeError",
     "evalue": "Requested MovieWriter (ffmpeg) not available",
     "output_type": "error",
     "traceback": [
      "\u001b[1;31m---------------------------------------------------------------------------\u001b[0m",
      "\u001b[1;31mRuntimeError\u001b[0m                              Traceback (most recent call last)",
      "\u001b[1;32mc:\\program files\\python36\\lib\\site-packages\\IPython\\core\\formatters.py\u001b[0m in \u001b[0;36m__call__\u001b[1;34m(self, obj)\u001b[0m\n\u001b[0;32m    343\u001b[0m             \u001b[0mmethod\u001b[0m \u001b[1;33m=\u001b[0m \u001b[0mget_real_method\u001b[0m\u001b[1;33m(\u001b[0m\u001b[0mobj\u001b[0m\u001b[1;33m,\u001b[0m \u001b[0mself\u001b[0m\u001b[1;33m.\u001b[0m\u001b[0mprint_method\u001b[0m\u001b[1;33m)\u001b[0m\u001b[1;33m\u001b[0m\u001b[1;33m\u001b[0m\u001b[0m\n\u001b[0;32m    344\u001b[0m             \u001b[1;32mif\u001b[0m \u001b[0mmethod\u001b[0m \u001b[1;32mis\u001b[0m \u001b[1;32mnot\u001b[0m \u001b[1;32mNone\u001b[0m\u001b[1;33m:\u001b[0m\u001b[1;33m\u001b[0m\u001b[1;33m\u001b[0m\u001b[0m\n\u001b[1;32m--> 345\u001b[1;33m                 \u001b[1;32mreturn\u001b[0m \u001b[0mmethod\u001b[0m\u001b[1;33m(\u001b[0m\u001b[1;33m)\u001b[0m\u001b[1;33m\u001b[0m\u001b[1;33m\u001b[0m\u001b[0m\n\u001b[0m\u001b[0;32m    346\u001b[0m             \u001b[1;32mreturn\u001b[0m \u001b[1;32mNone\u001b[0m\u001b[1;33m\u001b[0m\u001b[1;33m\u001b[0m\u001b[0m\n\u001b[0;32m    347\u001b[0m         \u001b[1;32melse\u001b[0m\u001b[1;33m:\u001b[0m\u001b[1;33m\u001b[0m\u001b[1;33m\u001b[0m\u001b[0m\n",
      "\u001b[1;32mc:\\program files\\python36\\lib\\site-packages\\matplotlib\\animation.py\u001b[0m in \u001b[0;36m_repr_html_\u001b[1;34m(self)\u001b[0m\n\u001b[0;32m   1389\u001b[0m         \u001b[0mfmt\u001b[0m \u001b[1;33m=\u001b[0m \u001b[0mrcParams\u001b[0m\u001b[1;33m[\u001b[0m\u001b[1;34m'animation.html'\u001b[0m\u001b[1;33m]\u001b[0m\u001b[1;33m\u001b[0m\u001b[1;33m\u001b[0m\u001b[0m\n\u001b[0;32m   1390\u001b[0m         \u001b[1;32mif\u001b[0m \u001b[0mfmt\u001b[0m \u001b[1;33m==\u001b[0m \u001b[1;34m'html5'\u001b[0m\u001b[1;33m:\u001b[0m\u001b[1;33m\u001b[0m\u001b[1;33m\u001b[0m\u001b[0m\n\u001b[1;32m-> 1391\u001b[1;33m             \u001b[1;32mreturn\u001b[0m \u001b[0mself\u001b[0m\u001b[1;33m.\u001b[0m\u001b[0mto_html5_video\u001b[0m\u001b[1;33m(\u001b[0m\u001b[1;33m)\u001b[0m\u001b[1;33m\u001b[0m\u001b[1;33m\u001b[0m\u001b[0m\n\u001b[0m\u001b[0;32m   1392\u001b[0m         \u001b[1;32melif\u001b[0m \u001b[0mfmt\u001b[0m \u001b[1;33m==\u001b[0m \u001b[1;34m'jshtml'\u001b[0m\u001b[1;33m:\u001b[0m\u001b[1;33m\u001b[0m\u001b[1;33m\u001b[0m\u001b[0m\n\u001b[0;32m   1393\u001b[0m             \u001b[1;32mreturn\u001b[0m \u001b[0mself\u001b[0m\u001b[1;33m.\u001b[0m\u001b[0mto_jshtml\u001b[0m\u001b[1;33m(\u001b[0m\u001b[1;33m)\u001b[0m\u001b[1;33m\u001b[0m\u001b[1;33m\u001b[0m\u001b[0m\n",
      "\u001b[1;32mc:\\program files\\python36\\lib\\site-packages\\matplotlib\\animation.py\u001b[0m in \u001b[0;36mto_html5_video\u001b[1;34m(self, embed_limit)\u001b[0m\n\u001b[0;32m   1326\u001b[0m                 \u001b[1;31m# We create a writer manually so that we can get the\u001b[0m\u001b[1;33m\u001b[0m\u001b[1;33m\u001b[0m\u001b[1;33m\u001b[0m\u001b[0m\n\u001b[0;32m   1327\u001b[0m                 \u001b[1;31m# appropriate size for the tag\u001b[0m\u001b[1;33m\u001b[0m\u001b[1;33m\u001b[0m\u001b[1;33m\u001b[0m\u001b[0m\n\u001b[1;32m-> 1328\u001b[1;33m                 \u001b[0mWriter\u001b[0m \u001b[1;33m=\u001b[0m \u001b[0mwriters\u001b[0m\u001b[1;33m[\u001b[0m\u001b[0mrcParams\u001b[0m\u001b[1;33m[\u001b[0m\u001b[1;34m'animation.writer'\u001b[0m\u001b[1;33m]\u001b[0m\u001b[1;33m]\u001b[0m\u001b[1;33m\u001b[0m\u001b[1;33m\u001b[0m\u001b[0m\n\u001b[0m\u001b[0;32m   1329\u001b[0m                 writer = Writer(codec='h264',\n\u001b[0;32m   1330\u001b[0m                                 \u001b[0mbitrate\u001b[0m\u001b[1;33m=\u001b[0m\u001b[0mrcParams\u001b[0m\u001b[1;33m[\u001b[0m\u001b[1;34m'animation.bitrate'\u001b[0m\u001b[1;33m]\u001b[0m\u001b[1;33m,\u001b[0m\u001b[1;33m\u001b[0m\u001b[1;33m\u001b[0m\u001b[0m\n",
      "\u001b[1;32mc:\\program files\\python36\\lib\\site-packages\\matplotlib\\animation.py\u001b[0m in \u001b[0;36m__getitem__\u001b[1;34m(self, name)\u001b[0m\n\u001b[0;32m    162\u001b[0m         \u001b[1;32mif\u001b[0m \u001b[0mself\u001b[0m\u001b[1;33m.\u001b[0m\u001b[0mis_available\u001b[0m\u001b[1;33m(\u001b[0m\u001b[0mname\u001b[0m\u001b[1;33m)\u001b[0m\u001b[1;33m:\u001b[0m\u001b[1;33m\u001b[0m\u001b[1;33m\u001b[0m\u001b[0m\n\u001b[0;32m    163\u001b[0m             \u001b[1;32mreturn\u001b[0m \u001b[0mself\u001b[0m\u001b[1;33m.\u001b[0m\u001b[0m_registered\u001b[0m\u001b[1;33m[\u001b[0m\u001b[0mname\u001b[0m\u001b[1;33m]\u001b[0m\u001b[1;33m\u001b[0m\u001b[1;33m\u001b[0m\u001b[0m\n\u001b[1;32m--> 164\u001b[1;33m         \u001b[1;32mraise\u001b[0m \u001b[0mRuntimeError\u001b[0m\u001b[1;33m(\u001b[0m\u001b[1;34mf\"Requested MovieWriter ({name}) not available\"\u001b[0m\u001b[1;33m)\u001b[0m\u001b[1;33m\u001b[0m\u001b[1;33m\u001b[0m\u001b[0m\n\u001b[0m\u001b[0;32m    165\u001b[0m \u001b[1;33m\u001b[0m\u001b[0m\n\u001b[0;32m    166\u001b[0m \u001b[1;33m\u001b[0m\u001b[0m\n",
      "\u001b[1;31mRuntimeError\u001b[0m: Requested MovieWriter (ffmpeg) not available"
     ]
    },
    {
     "data": {
      "text/plain": [
       "<matplotlib.animation.FuncAnimation at 0x20dedc35c88>"
      ]
     },
     "execution_count": 111,
     "metadata": {},
     "output_type": "execute_result"
    }
   ],
   "source": [
    "anim = animation.FuncAnimation(fig, animate, init_func=init, frames=100, interval=20, blit=True)\n",
    "anim"
   ]
  },
  {
   "cell_type": "markdown",
   "metadata": {},
   "source": [
    "## Ground Truth Trajectory, Noisy Measurements, Estimated Trajectory: "
   ]
  },
  {
   "cell_type": "code",
   "execution_count": 101,
   "metadata": {},
   "outputs": [
    {
     "data": {
      "image/png": "[encoded data removed]",
      "text/plain": [
       "<Figure size 432x288 with 1 Axes>"
      ]
     },
     "metadata": {
      "needs_background": "light"
     },
     "output_type": "display_data"
    },
    {
     "data": {
      "image/png": "[encoded data removed]",
      "text/plain": [
       "<Figure size 432x288 with 1 Axes>"
      ]
     },
     "metadata": {
      "needs_background": "light"
     },
     "output_type": "display_data"
    },
    {
     "data": {
      "image/png": "[encoded data removed]",
      "text/plain": [
       "<Figure size 432x288 with 1 Axes>"
      ]
     },
     "metadata": {
      "needs_background": "light"
     },
     "output_type": "display_data"
    }
   ],
   "source": [
    "fig = plt.figure()\n",
    "f = fig.add_subplot(111)\n",
    "f.plot(x_true_cat[0:, 0], x_true_cat[0:, 1], 'r', label='True Position')\n",
    "f.set_xlabel('x [m]')\n",
    "f.set_ylabel('y [m]')\n",
    "f.legend(loc='upper left', shadow=True, fontsize='small')\n",
    "plt.grid(True)\n",
    "\n",
    "fig = plt.figure()\n",
    "f = fig.add_subplot(111)\n",
    "f.plot(z_cat[0:, 0], z_cat[0:, 1], '+g', label='Noisy Measurements')\n",
    "f.set_xlabel('x [m]')\n",
    "f.set_ylabel('y [m]')\n",
    "f.legend(loc='upper left', shadow=True, fontsize='small')\n",
    "plt.grid(True)\n",
    "\n",
    "fig = plt.figure()\n",
    "f = fig.add_subplot(111)\n",
    "f.plot(x_est_cat[0:, 0], x_est_cat[0:, 1], 'b', label='Estimated Position')\n",
    "f.set_xlabel('x [m]')\n",
    "f.set_ylabel('y [m]')\n",
    "f.legend(loc='upper left', shadow=True, fontsize='small')\n",
    "plt.grid(True)\n",
    "\n",
    "plt.show()"
   ]
  },
  {
   "cell_type": "markdown",
   "metadata": {},
   "source": [
    "## Final Output:"
   ]
  },
  {
   "cell_type": "code",
   "execution_count": 102,
   "metadata": {},
   "outputs": [
    {
     "data": {
      "image/png": "[encoded data removed]",
      "text/plain": [
       "<Figure size 432x288 with 1 Axes>"
      ]
     },
     "metadata": {
      "needs_background": "light"
     },
     "output_type": "display_data"
    }
   ],
   "source": [
    "fig = plt.figure()\n",
    "f = fig.add_subplot(111)\n",
    "f.plot(x_true_cat[0:, 0], x_true_cat[0:, 1], 'r', label='True Position')\n",
    "f.plot(x_est_cat[0:, 0], x_est_cat[0:, 1], 'b', label='Estimated Position')\n",
    "f.plot(z_cat[0:, 0], z_cat[0:, 1], '+g', label='Noisy Measurements')\n",
    "f.set_xlabel('x [m]')\n",
    "f.set_ylabel('y [m]')\n",
    "f.set_title('Linear Kalman Filter - Constant Acceleration Model')\n",
    "f.legend(loc='upper left', shadow=True, fontsize='small')\n",
    "plt.grid(True)\n",
    "plt.show()"
   ]
  }
 ],
 "metadata": {
  "kernelspec": {
   "display_name": "Python 3",
   "language": "python",
   "name": "python3"
  },
  "language_info": {
   "codemirror_mode": {
    "name": "ipython",
    "version": 3
   },
   "file_extension": ".py",
   "mimetype": "text/x-python",
   "name": "python",
   "nbconvert_exporter": "python",
   "pygments_lexer": "ipython3",
   "version": "3.6.8"
  }
 },
 "nbformat": 4,
 "nbformat_minor": 4
}
